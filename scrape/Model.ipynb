{
 "cells": [
  {
   "cell_type": "code",
   "execution_count": 4,
   "id": "11b58a81",
   "metadata": {},
   "outputs": [],
   "source": [
    "import pandas as pd\n",
    "import matplotlib.pyplot as plt\n",
    "import seaborn as sns\n",
    "from wordcloud import WordCloud\n",
    "import ast \n",
    "\n",
    "# Konfigurasi visualisasi\n",
    "sns.set_style(\"whitegrid\")\n",
    "plt.rcParams['figure.figsize'] = (10, 6)\n",
    "plt.rcParams['font.size'] = 12\n"
   ]
  },
  {
   "cell_type": "code",
   "execution_count": 5,
   "metadata": {},
   "outputs": [
    {
     "name": "stdout",
     "output_type": "stream",
     "text": [
      "Dataset berhasil dimuat dari 'movies_all_data.csv'\n",
      "Jumlah baris: 4945, Jumlah kolom: 11\n"
     ]
    }
   ],
   "source": [
    "df = pd.read_csv('movies_all_data.csv')\n",
    "print(\"Dataset berhasil dimuat dari 'movies_all_data.csv'\")\n",
    "print(f\"Jumlah baris: {df.shape[0]}, Jumlah kolom: {df.shape[1]}\")"
   ]
  },
  {
   "cell_type": "code",
   "execution_count": 6,
   "metadata": {},
   "outputs": [
    {
     "name": "stdout",
     "output_type": "stream",
     "text": [
      "   movie_id  original_title                       poster_path  \\\n",
      "0         6  Judgment Night  /3rvvpS9YPM5HB2f4HYiNiJVtdam.jpg   \n",
      "1        11       Star Wars  /6FfCtAuVAW8XJjZ7eWeLibRLWTw.jpg   \n",
      "2        12    Finding Nemo  /eHuGQ10FUzK1mdOY69wF5pGgEf5.jpg   \n",
      "3        13    Forrest Gump  /arw2vcBveWOVZr6pxd9XTd1TdQa.jpg   \n",
      "4        17        The Dark  /h6gCVAzjFLhzkffv2VZO1RgVCBt.jpg   \n",
      "\n",
      "                                            overview release_date  \\\n",
      "0  Four young friends, while taking a shortcut en...   1993-10-15   \n",
      "1  Princess Leia is captured and held hostage by ...   1977-05-25   \n",
      "2  Nemo, an adventurous young clownfish, is unexp...   2003-05-30   \n",
      "3  A man with a low IQ has accomplished great thi...   1994-06-23   \n",
      "4  In an attempt to pull her family together, Adè...   2005-09-28   \n",
      "\n",
      "   vote_average                              genres        directors  \\\n",
      "0         6.500             Action, Crime, Thriller  Stephen Hopkins   \n",
      "1         8.205  Adventure, Action, Science Fiction     George Lucas   \n",
      "2         7.816                   Animation, Family   Andrew Stanton   \n",
      "3         8.468              Comedy, Drama, Romance  Robert Zemeckis   \n",
      "4         5.700           Horror, Thriller, Mystery     John Fawcett   \n",
      "\n",
      "                                       main_actors  \\\n",
      "0    Emilio Estevez, Cuba Gooding Jr., Denis Leary   \n",
      "1        Mark Hamill, Harrison Ford, Carrie Fisher   \n",
      "2  Albert Brooks, Ellen DeGeneres, Alexander Gould   \n",
      "3             Tom Hanks, Robin Wright, Gary Sinise   \n",
      "4            Maria Bello, Sean Bean, Abigail Stone   \n",
      "\n",
      "                                     watch_providers           scraped_at  \n",
      "0  {\"watch_providers\": [{\"id\": 9, \"name\": \"Amazon...  2025-05-22 20:15:46  \n",
      "1  {\"watch_providers\": [{\"id\": 337, \"name\": \"Disn...  2025-05-22 19:36:03  \n",
      "2  {\"watch_providers\": [{\"id\": 337, \"name\": \"Disn...  2025-05-22 20:23:38  \n",
      "3  {\"watch_providers\": [{\"id\": 9, \"name\": \"Amazon...  2025-05-22 19:49:14  \n",
      "4  {\"watch_providers\": [{\"id\": 9, \"name\": \"Amazon...  2025-05-22 21:15:09  \n"
     ]
    }
   ],
   "source": [
    "print(df.head())"
   ]
  },
  {
   "cell_type": "code",
   "execution_count": 7,
   "metadata": {},
   "outputs": [
    {
     "name": "stdout",
     "output_type": "stream",
     "text": [
      "<class 'pandas.core.frame.DataFrame'>\n",
      "RangeIndex: 4945 entries, 0 to 4944\n",
      "Data columns (total 11 columns):\n",
      " #   Column           Non-Null Count  Dtype  \n",
      "---  ------           --------------  -----  \n",
      " 0   movie_id         4945 non-null   int64  \n",
      " 1   original_title   4945 non-null   object \n",
      " 2   poster_path      4945 non-null   object \n",
      " 3   overview         4944 non-null   object \n",
      " 4   release_date     4945 non-null   object \n",
      " 5   vote_average     4945 non-null   float64\n",
      " 6   genres           4945 non-null   object \n",
      " 7   directors        4940 non-null   object \n",
      " 8   main_actors      4923 non-null   object \n",
      " 9   watch_providers  4945 non-null   object \n",
      " 10  scraped_at       4945 non-null   object \n",
      "dtypes: float64(1), int64(1), object(9)\n",
      "memory usage: 425.1+ KB\n"
     ]
    }
   ],
   "source": [
    "df.info()\n"
   ]
  },
  {
   "cell_type": "code",
   "execution_count": 8,
   "metadata": {},
   "outputs": [
    {
     "name": "stdout",
     "output_type": "stream",
     "text": [
      "           movie_id  vote_average\n",
      "count  4.945000e+03   4945.000000\n",
      "mean   3.746823e+05      6.481828\n",
      "std    3.404464e+05      0.832566\n",
      "min    6.000000e+00      2.189000\n",
      "25%    2.846500e+04      5.955000\n",
      "50%    3.457750e+05      6.509000\n",
      "75%    6.053730e+05      7.070000\n",
      "max    1.418522e+06      9.112000\n"
     ]
    }
   ],
   "source": [
    "print(df.describe())"
   ]
  },
  {
   "cell_type": "code",
   "execution_count": null,
   "metadata": {},
   "outputs": [
    {
     "name": "stdout",
     "output_type": "stream",
     "text": [
      "--- Cek Missing Values ---\n",
      "             Total Missing  Percentage (%)\n",
      "main_actors             22        0.444894\n",
      "directors                5        0.101112\n",
      "overview                 1        0.020222\n"
     ]
    }
   ],
   "source": [
    "print(\"--- Cek Missing Values ---\")\n",
    "missing_values = df.isnull().sum()\n",
    "missing_df = pd.DataFrame({'Total Missing': missing_values})\n",
    "print(missing_df[missing_df['Total Missing'] > 0].sort_values(by='Percentage (%)', ascending=False))\n",
    "\n",
    "# Visualisasi Missing Values (opsional, jika ada banyak kolom dengan missing)\n",
    "if not missing_df[missing_df['Total Missing'] > 0].empty:\n",
    "    plt.figure(figsize=(10, 6))\n",
    "    sns.heatmap(df.isnull(), cbar=False, cmap='viridis')\n",
    "    plt.title('Visualisasi Missing Values')\n",
    "    plt.show()\n",
    "else:\n",
    "    print(\"Tidak ada nilai hilang yang terdeteksi.\")"
   ]
  },
  {
   "cell_type": "code",
   "execution_count": null,
   "metadata": {},
   "outputs": [],
   "source": []
  },
  {
   "cell_type": "code",
   "execution_count": null,
   "metadata": {},
   "outputs": [],
   "source": []
  },
  {
   "cell_type": "code",
   "execution_count": null,
   "metadata": {},
   "outputs": [],
   "source": []
  },
  {
   "cell_type": "code",
   "execution_count": null,
   "id": "8cf303ba",
   "metadata": {},
   "outputs": [],
   "source": []
  },
  {
   "cell_type": "code",
   "execution_count": null,
   "id": "8bcfff7a",
   "metadata": {},
   "outputs": [],
   "source": []
  },
  {
   "cell_type": "code",
   "execution_count": null,
   "id": "e9a7ab8e",
   "metadata": {},
   "outputs": [],
   "source": []
  }
 ],
 "metadata": {
  "kernelspec": {
   "display_name": "Python 3",
   "language": "python",
   "name": "python3"
  },
  "language_info": {
   "codemirror_mode": {
    "name": "ipython",
    "version": 3
   },
   "file_extension": ".py",
   "mimetype": "text/x-python",
   "name": "python",
   "nbconvert_exporter": "python",
   "pygments_lexer": "ipython3",
   "version": "3.10.2"
  }
 },
 "nbformat": 4,
 "nbformat_minor": 5
}
